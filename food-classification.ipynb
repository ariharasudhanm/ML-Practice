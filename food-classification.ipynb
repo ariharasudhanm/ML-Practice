{
 "cells": [
  {
   "cell_type": "code",
   "execution_count": 1,
   "id": "4cda8803",
   "metadata": {
    "execution": {
     "iopub.execute_input": "2022-09-04T09:31:22.365530Z",
     "iopub.status.busy": "2022-09-04T09:31:22.364693Z",
     "iopub.status.idle": "2022-09-04T09:31:26.509110Z",
     "shell.execute_reply": "2022-09-04T09:31:26.508159Z"
    },
    "papermill": {
     "duration": 4.156978,
     "end_time": "2022-09-04T09:31:26.511656",
     "exception": false,
     "start_time": "2022-09-04T09:31:22.354678",
     "status": "completed"
    },
    "tags": []
   },
   "outputs": [],
   "source": [
    "import os\n",
    "import pandas as pd\n",
    "import matplotlib.pyplot as plt \n",
    "import torch\n",
    "import torchvision\n",
    "import numpy as np\n",
    "\n",
    "from PIL import Image\n",
    "from torch.utils.data import DataLoader, Dataset, RandomSampler, random_split, WeightedRandomSampler\n",
    "from torchvision import models\n",
    "import torchvision.transforms as transforms\n",
    "import torch.nn as nn\n",
    "import torch.optim as optim\n",
    "import torch.nn.functional as F\n",
    "from torch.optim import lr_scheduler\n",
    "import time\n",
    "import copy\n",
    "import albumentations as A\n",
    "from albumentations.pytorch import ToTensorV2\n",
    "import cv2\n"
   ]
  },
  {
   "cell_type": "code",
   "execution_count": 2,
   "id": "b884712c",
   "metadata": {
    "execution": {
     "iopub.execute_input": "2022-09-04T09:31:26.524648Z",
     "iopub.status.busy": "2022-09-04T09:31:26.523314Z",
     "iopub.status.idle": "2022-09-04T09:31:27.855159Z",
     "shell.execute_reply": "2022-09-04T09:31:27.854029Z"
    },
    "papermill": {
     "duration": 1.340163,
     "end_time": "2022-09-04T09:31:27.857412",
     "exception": false,
     "start_time": "2022-09-04T09:31:26.517249",
     "status": "completed"
    },
    "tags": []
   },
   "outputs": [
    {
     "name": "stdout",
     "output_type": "stream",
     "text": [
      "--2022-09-04 09:31:27--  https://raw.githubusercontent.com/abhuse/pytorch-efficientnet/master/efficientnet_v2.py\r\n",
      "Resolving raw.githubusercontent.com (raw.githubusercontent.com)... 185.199.109.133, 185.199.110.133, 185.199.111.133, ...\r\n",
      "Connecting to raw.githubusercontent.com (raw.githubusercontent.com)|185.199.109.133|:443... connected.\r\n",
      "HTTP request sent, awaiting response... 200 OK\r\n",
      "Length: 30877 (30K) [text/plain]\r\n",
      "Saving to: ‘efficientnet_v2.py’\r\n",
      "\r\n",
      "efficientnet_v2.py  100%[===================>]  30.15K  --.-KB/s    in 0.002s  \r\n",
      "\r\n",
      "2022-09-04 09:31:27 (18.7 MB/s) - ‘efficientnet_v2.py’ saved [30877/30877]\r\n",
      "\r\n"
     ]
    }
   ],
   "source": [
    "!wget https://raw.githubusercontent.com/abhuse/pytorch-efficientnet/master/efficientnet_v2.py\n",
    "from efficientnet_v2 import EfficientNetV2"
   ]
  },
  {
   "cell_type": "code",
   "execution_count": 3,
   "id": "9a61d4bd",
   "metadata": {
    "execution": {
     "iopub.execute_input": "2022-09-04T09:31:27.870922Z",
     "iopub.status.busy": "2022-09-04T09:31:27.870041Z",
     "iopub.status.idle": "2022-09-04T09:31:27.875095Z",
     "shell.execute_reply": "2022-09-04T09:31:27.874239Z"
    },
    "papermill": {
     "duration": 0.013828,
     "end_time": "2022-09-04T09:31:27.877081",
     "exception": false,
     "start_time": "2022-09-04T09:31:27.863253",
     "status": "completed"
    },
    "tags": []
   },
   "outputs": [],
   "source": [
    "# Installing additional package for efficient net\n",
    "#!pip install efficientnet_pytorch\n",
    "#from efficientnet_pytorch import EfficientNet"
   ]
  },
  {
   "cell_type": "code",
   "execution_count": 4,
   "id": "ddf17ca1",
   "metadata": {
    "execution": {
     "iopub.execute_input": "2022-09-04T09:31:27.889011Z",
     "iopub.status.busy": "2022-09-04T09:31:27.888746Z",
     "iopub.status.idle": "2022-09-04T09:31:27.916162Z",
     "shell.execute_reply": "2022-09-04T09:31:27.914377Z"
    },
    "papermill": {
     "duration": 0.035688,
     "end_time": "2022-09-04T09:31:27.918209",
     "exception": false,
     "start_time": "2022-09-04T09:31:27.882521",
     "status": "completed"
    },
    "tags": []
   },
   "outputs": [
    {
     "name": "stdout",
     "output_type": "stream",
     "text": [
      "train_data info:  chapati        862\n",
      "nyamachoma     784\n",
      "bhaji          632\n",
      "ugali          628\n",
      "mandazi        620\n",
      "kachumbari     494\n",
      "matoke         483\n",
      "githeri        479\n",
      "masalachips    438\n",
      "sukumawiki     402\n",
      "pilau          329\n",
      "mukimo         212\n",
      "kukuchoma      173\n",
      "Name: class, dtype: int64\n"
     ]
    }
   ],
   "source": [
    "# Data reading\n",
    "train_csv = pd.read_csv('../input/opencv-pytorch-dl-course-classification/train.csv')\n",
    "train_data = pd.DataFrame(train_csv)\n",
    "print(\"train_data info: \", train_data['class'].value_counts())"
   ]
  },
  {
   "cell_type": "code",
   "execution_count": 5,
   "id": "6001adc0",
   "metadata": {
    "execution": {
     "iopub.execute_input": "2022-09-04T09:31:27.931042Z",
     "iopub.status.busy": "2022-09-04T09:31:27.930189Z",
     "iopub.status.idle": "2022-09-04T09:31:27.950101Z",
     "shell.execute_reply": "2022-09-04T09:31:27.948277Z"
    },
    "papermill": {
     "duration": 0.028662,
     "end_time": "2022-09-04T09:31:27.952565",
     "exception": false,
     "start_time": "2022-09-04T09:31:27.923903",
     "status": "completed"
    },
    "tags": []
   },
   "outputs": [
    {
     "name": "stdout",
     "output_type": "stream",
     "text": [
      "<class 'pandas.core.frame.DataFrame'>\n",
      "RangeIndex: 6536 entries, 0 to 6535\n",
      "Data columns (total 2 columns):\n",
      " #   Column  Non-Null Count  Dtype \n",
      "---  ------  --------------  ----- \n",
      " 0   id      6536 non-null   uint64\n",
      " 1   class   6536 non-null   object\n",
      "dtypes: object(1), uint64(1)\n",
      "memory usage: 102.2+ KB\n",
      "None\n"
     ]
    }
   ],
   "source": [
    "print(train_data.info())"
   ]
  },
  {
   "cell_type": "code",
   "execution_count": 6,
   "id": "469c9ab5",
   "metadata": {
    "execution": {
     "iopub.execute_input": "2022-09-04T09:31:27.966576Z",
     "iopub.status.busy": "2022-09-04T09:31:27.965654Z",
     "iopub.status.idle": "2022-09-04T09:31:27.973344Z",
     "shell.execute_reply": "2022-09-04T09:31:27.972454Z"
    },
    "papermill": {
     "duration": 0.016313,
     "end_time": "2022-09-04T09:31:27.975287",
     "exception": false,
     "start_time": "2022-09-04T09:31:27.958974",
     "status": "completed"
    },
    "tags": []
   },
   "outputs": [],
   "source": [
    "# Label Encoder function\n",
    "def label_encoder(df):\n",
    "    if df[\"class\"] == 'githeri' :\n",
    "        return 0\n",
    "    \n",
    "    elif df[\"class\"] == 'ugali' :\n",
    "        return 1\n",
    "    \n",
    "    elif df[\"class\"] == 'kachumbari' :\n",
    "        return 2\n",
    "    \n",
    "    elif df[\"class\"] == 'matoke':\n",
    "        return 3\n",
    "    \n",
    "    elif df[\"class\"] == 'sukumawiki':\n",
    "        return 4\n",
    "    \n",
    "    elif df['class'] == 'bhaji':\n",
    "        return 5\n",
    "    \n",
    "    elif df['class'] == 'nyamachoma':\n",
    "        return 6\n",
    "    \n",
    "    elif df['class'] == 'mandazi':\n",
    "        return 7\n",
    "    \n",
    "    elif df['class'] == 'pilau':\n",
    "        return 8\n",
    "    \n",
    "    elif df['class'] == 'chapati':\n",
    "        return 9\n",
    "    \n",
    "    elif df['class'] == 'kukuchoma':\n",
    "        return 10\n",
    "    \n",
    "    elif df['class'] == 'masalachips':\n",
    "        return 11\n",
    "    \n",
    "    elif df['class'] == 'mukimo':\n",
    "        return 12"
   ]
  },
  {
   "cell_type": "code",
   "execution_count": 7,
   "id": "131752a5",
   "metadata": {
    "execution": {
     "iopub.execute_input": "2022-09-04T09:31:27.987929Z",
     "iopub.status.busy": "2022-09-04T09:31:27.987237Z",
     "iopub.status.idle": "2022-09-04T09:31:28.186983Z",
     "shell.execute_reply": "2022-09-04T09:31:28.184804Z"
    },
    "papermill": {
     "duration": 0.208786,
     "end_time": "2022-09-04T09:31:28.189623",
     "exception": false,
     "start_time": "2022-09-04T09:31:27.980837",
     "status": "completed"
    },
    "tags": []
   },
   "outputs": [
    {
     "name": "stdout",
     "output_type": "stream",
     "text": [
      "                        id       class  labels\n",
      "0     14278962987112149800     githeri       0\n",
      "1     13190220095752321996       ugali       1\n",
      "2     10431803432626641638  kachumbari       2\n",
      "3      4222441716327528413     githeri       0\n",
      "4      2547906925836120627      matoke       3\n",
      "...                    ...         ...     ...\n",
      "6531   9491780363201908054      matoke       3\n",
      "6532    938716700684692863     chapati       9\n",
      "6533  12487998559342412135       ugali       1\n",
      "6534   3466916091782561952  kachumbari       2\n",
      "6535   4410319397208590457     chapati       9\n",
      "\n",
      "[6536 rows x 3 columns]\n"
     ]
    }
   ],
   "source": [
    "# Adding labels column \n",
    "train_data['labels'] = train_data.apply(label_encoder, axis = 1)\n",
    "train_data[\"id\"] = train_data[\"id\"].astype(str)\n",
    "print(train_data)"
   ]
  },
  {
   "cell_type": "code",
   "execution_count": 8,
   "id": "71c30276",
   "metadata": {
    "execution": {
     "iopub.execute_input": "2022-09-04T09:31:28.203610Z",
     "iopub.status.busy": "2022-09-04T09:31:28.202811Z",
     "iopub.status.idle": "2022-09-04T09:31:28.220689Z",
     "shell.execute_reply": "2022-09-04T09:31:28.219838Z"
    },
    "papermill": {
     "duration": 0.026606,
     "end_time": "2022-09-04T09:31:28.222700",
     "exception": false,
     "start_time": "2022-09-04T09:31:28.196094",
     "status": "completed"
    },
    "tags": []
   },
   "outputs": [],
   "source": [
    "# converting pandas dataframe to csv\n",
    "train_data.to_csv(\"train.csv\")"
   ]
  },
  {
   "cell_type": "code",
   "execution_count": 9,
   "id": "125db985",
   "metadata": {
    "execution": {
     "iopub.execute_input": "2022-09-04T09:31:28.235399Z",
     "iopub.status.busy": "2022-09-04T09:31:28.235124Z",
     "iopub.status.idle": "2022-09-04T09:31:28.242300Z",
     "shell.execute_reply": "2022-09-04T09:31:28.241283Z"
    },
    "papermill": {
     "duration": 0.015533,
     "end_time": "2022-09-04T09:31:28.244291",
     "exception": false,
     "start_time": "2022-09-04T09:31:28.228758",
     "status": "completed"
    },
    "tags": []
   },
   "outputs": [],
   "source": [
    "# Custom dataloader function\n",
    "class Kenyafood_data(Dataset):\n",
    "    def __init__(self, csv_file, root_dir, transform):\n",
    "        self.annotations = pd.read_csv(csv_file)\n",
    "        self.root_dir = root_dir\n",
    "        self.transform = transform\n",
    "    \n",
    "    def __len__(self):\n",
    "        return len(self.annotations['id'])\n",
    "    \n",
    "    def __getitem__(self, index):\n",
    "        img_path = os.path.join(self.root_dir, str(self.annotations['id'][index])+'.jpg')\n",
    "        image = cv2.imread(img_path)\n",
    "        image = cv2.cvtColor(image, cv2.COLOR_BGR2RGB)\n",
    "        y_label = torch.tensor(int(self.annotations['labels'][index]))\n",
    "        \n",
    "        if self.transform is not None:\n",
    "            image = self.transform(image = image)['image']\n",
    "            \n",
    "        return image, y_label"
   ]
  },
  {
   "cell_type": "code",
   "execution_count": 10,
   "id": "9018564d",
   "metadata": {
    "execution": {
     "iopub.execute_input": "2022-09-04T09:31:28.256646Z",
     "iopub.status.busy": "2022-09-04T09:31:28.256371Z",
     "iopub.status.idle": "2022-09-04T09:31:28.268117Z",
     "shell.execute_reply": "2022-09-04T09:31:28.267100Z"
    },
    "papermill": {
     "duration": 0.020608,
     "end_time": "2022-09-04T09:31:28.270368",
     "exception": false,
     "start_time": "2022-09-04T09:31:28.249760",
     "status": "completed"
    },
    "tags": []
   },
   "outputs": [],
   "source": [
    "# Necessary transformations for training data\n",
    "transformations = A.Compose([A.OneOf([\n",
    "                                      A.RGBShift(r_shift_limit=20, g_shift_limit=20, b_shift_limit=20, always_apply=False, p=0.6), \n",
    "                                      A.CLAHE(clip_limit=4.0, tile_grid_size=(8, 8))\n",
    "                                     ], p=1),                                \n",
    "                                A.OneOf([\n",
    "                                    A.Rotate(limit = 40, p = 0.7),\n",
    "                                    A.GaussNoise(var_limit=(10.0, 50.0), mean=0, per_channel=True, always_apply=False, p=0.4),\n",
    "                                    A.MedianBlur(blur_limit=7, always_apply=False, p=0.4),\n",
    "                                ], p = 1.0),\n",
    "                             \n",
    "                                A.OneOf([\n",
    "                                    A.GaussianBlur(blur_limit=(3, 7), sigma_limit=0, always_apply=False, p=0.4),\n",
    "                                    A.VerticalFlip(p = 0.7),\n",
    "                                ], p =1.0),\n",
    "                                 \n",
    "                                A.OneOf([\n",
    "                                    A.Sharpen(alpha=(0.2, 0.5), lightness=(0.5, 1.0), always_apply=False, p=0.5),\n",
    "                                    A.HorizontalFlip(p = 0.7),\n",
    "                                ], p = 1.0),\n",
    "                                \n",
    "                                A.OneOf([\n",
    "                                    A.RandomBrightnessContrast(brightness_limit=0.2, contrast_limit=0.2, brightness_by_max=True, always_apply=False, p=0.4),\n",
    "                                    A.ColorJitter(brightness=0.2, contrast=0.2, saturation=0.2, hue=0.2, always_apply=False, p=0.6),\n",
    "                                ], p=1.0),\n",
    "                                \n",
    "                                A.OneOf([\n",
    "                                    A.Posterize(num_bits=4, always_apply=False, p=0.6),\n",
    "                                    A.FancyPCA(alpha=0.1, always_apply=False, p=0.4),\n",
    "                                ], p = 1.0),\n",
    "                             \n",
    "                                A.OneOf([\n",
    "                                    A.Solarize(threshold=128, always_apply=False, p=0.7),\n",
    "                                    A.GaussNoise(var_limit=(10.0, 50.0), mean=0, per_channel=True, always_apply=False, p=0.3),\n",
    "                                ], p = 1.0),\n",
    "                             \n",
    "                                A.Resize(width = 300, height = 300),\n",
    "                                A.Normalize(mean=(0.485, 0.456, 0.406), std=(0.229, 0.224, 0.225)),\n",
    "                                ToTensorV2()\n",
    "                        ])"
   ]
  },
  {
   "cell_type": "code",
   "execution_count": 11,
   "id": "ec6c0d4b",
   "metadata": {
    "execution": {
     "iopub.execute_input": "2022-09-04T09:31:28.284115Z",
     "iopub.status.busy": "2022-09-04T09:31:28.283840Z",
     "iopub.status.idle": "2022-09-04T09:31:28.296415Z",
     "shell.execute_reply": "2022-09-04T09:31:28.295585Z"
    },
    "papermill": {
     "duration": 0.022242,
     "end_time": "2022-09-04T09:31:28.298301",
     "exception": false,
     "start_time": "2022-09-04T09:31:28.276059",
     "status": "completed"
    },
    "tags": []
   },
   "outputs": [],
   "source": [
    "# Splitting training and validation samples\n",
    "imageloader = Kenyafood_data(csv_file = \"./train.csv\", root_dir = \"../input/opencv-pytorch-dl-course-classification/images/images\",\n",
    "                                          transform = transformations)\n",
    "train_sampler, val_sampler =  random_split(imageloader, [5228,1308]) "
   ]
  },
  {
   "cell_type": "code",
   "execution_count": 12,
   "id": "1bdbdbfd",
   "metadata": {
    "execution": {
     "iopub.execute_input": "2022-09-04T09:31:28.310257Z",
     "iopub.status.busy": "2022-09-04T09:31:28.309996Z",
     "iopub.status.idle": "2022-09-04T09:31:28.314891Z",
     "shell.execute_reply": "2022-09-04T09:31:28.313853Z"
    },
    "papermill": {
     "duration": 0.013436,
     "end_time": "2022-09-04T09:31:28.317183",
     "exception": false,
     "start_time": "2022-09-04T09:31:28.303747",
     "status": "completed"
    },
    "tags": []
   },
   "outputs": [],
   "source": [
    "# Creating dataloader for training and validation samples\n",
    "train_samples = DataLoader(train_sampler, batch_size = 16, num_workers = 0, shuffle = True)\n",
    "val_samples = DataLoader(val_sampler, batch_size = 16, num_workers = 0, shuffle = True)"
   ]
  },
  {
   "cell_type": "code",
   "execution_count": 13,
   "id": "0da4de24",
   "metadata": {
    "execution": {
     "iopub.execute_input": "2022-09-04T09:31:28.329389Z",
     "iopub.status.busy": "2022-09-04T09:31:28.329092Z",
     "iopub.status.idle": "2022-09-04T09:31:31.889174Z",
     "shell.execute_reply": "2022-09-04T09:31:31.887764Z"
    },
    "papermill": {
     "duration": 3.569414,
     "end_time": "2022-09-04T09:31:31.892117",
     "exception": false,
     "start_time": "2022-09-04T09:31:28.322703",
     "status": "completed"
    },
    "tags": []
   },
   "outputs": [
    {
     "name": "stdout",
     "output_type": "stream",
     "text": [
      "torch.Size([16, 3, 300, 300])\n",
      "327\n"
     ]
    }
   ],
   "source": [
    "# Checking the dataloader before training\n",
    "j = next(iter(train_samples))\n",
    "print(j[0].size())\n",
    "print(len(train_samples))"
   ]
  },
  {
   "cell_type": "code",
   "execution_count": 14,
   "id": "ebb3dd87",
   "metadata": {
    "execution": {
     "iopub.execute_input": "2022-09-04T09:31:31.907071Z",
     "iopub.status.busy": "2022-09-04T09:31:31.906768Z",
     "iopub.status.idle": "2022-09-04T09:31:31.911195Z",
     "shell.execute_reply": "2022-09-04T09:31:31.909822Z"
    },
    "papermill": {
     "duration": 0.014085,
     "end_time": "2022-09-04T09:31:31.913351",
     "exception": false,
     "start_time": "2022-09-04T09:31:31.899266",
     "status": "completed"
    },
    "tags": []
   },
   "outputs": [],
   "source": [
    "# Loading pre-trained model\n",
    "#res_model = models.efficientnet_b4(pretrained = True)"
   ]
  },
  {
   "cell_type": "code",
   "execution_count": 15,
   "id": "4f90d887",
   "metadata": {
    "execution": {
     "iopub.execute_input": "2022-09-04T09:31:31.926154Z",
     "iopub.status.busy": "2022-09-04T09:31:31.925882Z",
     "iopub.status.idle": "2022-09-04T09:31:38.908154Z",
     "shell.execute_reply": "2022-09-04T09:31:38.906521Z"
    },
    "papermill": {
     "duration": 6.991701,
     "end_time": "2022-09-04T09:31:38.911048",
     "exception": false,
     "start_time": "2022-09-04T09:31:31.919347",
     "status": "completed"
    },
    "tags": []
   },
   "outputs": [
    {
     "name": "stderr",
     "output_type": "stream",
     "text": [
      "Downloading: \"https://api.onedrive.com/v1.0/shares/u!aHR0cHM6Ly8xZHJ2Lm1zL3UvcyFBdGlRcHc5VGNjZmlnUVpkamdZUzhhaDdtTTZLP2U9anA4VWN2/root/content\" to /root/.cache/torch/hub/checkpoints/efficientnet_v2_b3_21k_ft1k-3da5874c.pth\n"
     ]
    },
    {
     "name": "stdout",
     "output_type": "stream",
     "text": [
      "Model weights loaded successfully.\n"
     ]
    }
   ],
   "source": [
    "modelname = 'b3'\n",
    "res_model = EfficientNetV2(modelname,\n",
    "                        n_classes=13,\n",
    "                        pretrained=True)"
   ]
  },
  {
   "cell_type": "code",
   "execution_count": 16,
   "id": "20b2a67b",
   "metadata": {
    "execution": {
     "iopub.execute_input": "2022-09-04T09:31:38.924504Z",
     "iopub.status.busy": "2022-09-04T09:31:38.924187Z",
     "iopub.status.idle": "2022-09-04T09:31:38.929144Z",
     "shell.execute_reply": "2022-09-04T09:31:38.928107Z"
    },
    "papermill": {
     "duration": 0.013825,
     "end_time": "2022-09-04T09:31:38.931363",
     "exception": false,
     "start_time": "2022-09-04T09:31:38.917538",
     "status": "completed"
    },
    "tags": []
   },
   "outputs": [],
   "source": [
    "# Evaluating Accuracy \n",
    "def accuracy_score(predictions, labels):\n",
    "    return (predictions.argmax(dim = 1) == labels).float().mean().item()\n"
   ]
  },
  {
   "cell_type": "code",
   "execution_count": 17,
   "id": "c5c6216f",
   "metadata": {
    "execution": {
     "iopub.execute_input": "2022-09-04T09:31:38.944408Z",
     "iopub.status.busy": "2022-09-04T09:31:38.943505Z",
     "iopub.status.idle": "2022-09-04T09:31:38.953417Z",
     "shell.execute_reply": "2022-09-04T09:31:38.952569Z"
    },
    "papermill": {
     "duration": 0.018419,
     "end_time": "2022-09-04T09:31:38.955385",
     "exception": false,
     "start_time": "2022-09-04T09:31:38.936966",
     "status": "completed"
    },
    "tags": []
   },
   "outputs": [],
   "source": [
    "# Training function\n",
    "optimizer = optim.Adam(res_model.parameters(), lr=1e-3, eps=1e-08)\n",
    "criterion = nn.CrossEntropyLoss()\n",
    "model = res_model\n",
    "\n",
    "def Train():\n",
    "    \n",
    "    loss_list = []\n",
    "    acc_list = []\n",
    "    \n",
    "    model.cuda()\n",
    "    model.train()\n",
    "\n",
    "    for i, (images, labels) in enumerate(train_samples):\n",
    "        images = images.cuda()\n",
    "\n",
    "        labels = labels.cuda()\n",
    "\n",
    "        optimizer.zero_grad()\n",
    "\n",
    "        prediction = model(images)\n",
    "\n",
    "        loss = criterion(prediction, labels)\n",
    "\n",
    "        loss.backward()\n",
    "\n",
    "        optimizer.step()\n",
    "        \n",
    "        prob = F.softmax(prediction, dim = 1)\n",
    "\n",
    "        loss_list.append(loss.item()) \n",
    "\n",
    "        acc = accuracy_score(prob, labels)\n",
    "        acc_list.append(acc)\n",
    "\n",
    "\n",
    "    final_loss = sum(loss_list)/len(loss_list)\n",
    "    final_acc = sum(acc_list)/len(acc_list)\n",
    "\n",
    "    return final_loss, final_acc\n",
    "        "
   ]
  },
  {
   "cell_type": "code",
   "execution_count": 18,
   "id": "ce2b9d2b",
   "metadata": {
    "execution": {
     "iopub.execute_input": "2022-09-04T09:31:38.969608Z",
     "iopub.status.busy": "2022-09-04T09:31:38.968022Z",
     "iopub.status.idle": "2022-09-04T09:31:38.975295Z",
     "shell.execute_reply": "2022-09-04T09:31:38.974445Z"
    },
    "papermill": {
     "duration": 0.016111,
     "end_time": "2022-09-04T09:31:38.977205",
     "exception": false,
     "start_time": "2022-09-04T09:31:38.961094",
     "status": "completed"
    },
    "tags": []
   },
   "outputs": [],
   "source": [
    "# Validation function\n",
    "def Val():\n",
    "\n",
    "    acc_list = []\n",
    "    loss_list = []\n",
    "\n",
    "    model.eval()\n",
    "    model.cuda()\n",
    "    \n",
    "    with torch.no_grad():\n",
    "        for i, (images, labels) in enumerate(val_samples):\n",
    "            images = images.cuda()\n",
    "\n",
    "            labels = labels.cuda()\n",
    "\n",
    "            prediction = model(images)\n",
    "\n",
    "            prob = F.softmax(prediction, dim = 1)\n",
    "\n",
    "            loss = criterion(prediction, labels)\n",
    "\n",
    "            loss_list.append(loss.item())\n",
    "\n",
    "            acc = accuracy_score(prob, labels)\n",
    "            acc_list.append(acc)\n",
    "\n",
    "\n",
    "    final_loss = sum(loss_list)/len(loss_list)\n",
    "    final_acc = sum(acc_list)/len(acc_list)\n",
    "        \n",
    "    return final_loss, final_acc"
   ]
  },
  {
   "cell_type": "code",
   "execution_count": 19,
   "id": "d67e20b5",
   "metadata": {
    "execution": {
     "iopub.execute_input": "2022-09-04T09:31:38.990533Z",
     "iopub.status.busy": "2022-09-04T09:31:38.989569Z",
     "iopub.status.idle": "2022-09-04T14:43:35.844444Z",
     "shell.execute_reply": "2022-09-04T14:43:35.843443Z"
    },
    "papermill": {
     "duration": 18716.870836,
     "end_time": "2022-09-04T14:43:35.853824",
     "exception": false,
     "start_time": "2022-09-04T09:31:38.982988",
     "status": "completed"
    },
    "tags": []
   },
   "outputs": [
    {
     "name": "stdout",
     "output_type": "stream",
     "text": [
      "Epoch: 0 \t train Loss: 2.0082 \t train Accuracy: 34.6776\n",
      "Epoch: 0 \t val Loss: 2.5533 \t val Accuracy: 25.9400\n",
      "Saved model\n",
      "Epoch: 1 \t train Loss: 1.7029 \t train Accuracy: 47.0311\n",
      "Epoch: 1 \t val Loss: 2.1378 \t val Accuracy: 34.4766\n",
      "Saved model\n",
      "Epoch: 2 \t train Loss: 1.5825 \t train Accuracy: 49.5731\n",
      "Epoch: 2 \t val Loss: 1.6530 \t val Accuracy: 48.7551\n",
      "Saved model\n",
      "Epoch: 3 \t train Loss: 1.4687 \t train Accuracy: 53.0963\n",
      "Epoch: 3 \t val Loss: 1.4968 \t val Accuracy: 51.0671\n",
      "Saved model\n",
      "Epoch: 4 \t train Loss: 1.4365 \t train Accuracy: 53.4340\n",
      "Epoch: 4 \t val Loss: 1.7345 \t val Accuracy: 47.9675\n",
      "Epoch: 5 \t train Loss: 1.3422 \t train Accuracy: 56.4985\n",
      "Epoch: 5 \t val Loss: 1.4240 \t val Accuracy: 53.6585\n",
      "Saved model\n",
      "Epoch: 6 \t train Loss: 1.3123 \t train Accuracy: 57.4732\n",
      "Epoch: 6 \t val Loss: 1.5040 \t val Accuracy: 51.5498\n",
      "Epoch: 7 \t train Loss: 1.2330 \t train Accuracy: 60.0089\n",
      "Epoch: 7 \t val Loss: 1.3511 \t val Accuracy: 56.3262\n",
      "Saved model\n",
      "Epoch: 8 \t train Loss: 1.1984 \t train Accuracy: 61.8183\n",
      "Epoch: 8 \t val Loss: 1.5154 \t val Accuracy: 54.1921\n",
      "Epoch: 9 \t train Loss: 1.1619 \t train Accuracy: 62.0031\n",
      "Epoch: 9 \t val Loss: 1.3711 \t val Accuracy: 55.6911\n",
      "Epoch: 10 \t train Loss: 1.1406 \t train Accuracy: 62.4873\n",
      "Epoch: 10 \t val Loss: 1.4673 \t val Accuracy: 56.3770\n",
      "Saved model\n",
      "Epoch: 11 \t train Loss: 1.1256 \t train Accuracy: 63.3728\n",
      "Epoch: 11 \t val Loss: 1.5169 \t val Accuracy: 53.6585\n",
      "Epoch: 12 \t train Loss: 1.0678 \t train Accuracy: 65.1504\n",
      "Epoch: 12 \t val Loss: 1.3589 \t val Accuracy: 56.6311\n",
      "Saved model\n",
      "Epoch: 13 \t train Loss: 1.0384 \t train Accuracy: 66.1952\n",
      "Epoch: 13 \t val Loss: 1.2289 \t val Accuracy: 60.7978\n",
      "Saved model\n",
      "Epoch: 14 \t train Loss: 1.0204 \t train Accuracy: 66.1188\n",
      "Epoch: 14 \t val Loss: 1.1877 \t val Accuracy: 62.5254\n",
      "Saved model\n"
     ]
    }
   ],
   "source": [
    "# Training the model\n",
    "best_acc = 0\n",
    "\n",
    "train_acc_list = []\n",
    "val_acc_list = []\n",
    "\n",
    "\n",
    "for i in range(15):\n",
    "    train_loss, train_acc = Train()\n",
    "    print('Epoch: {} \\t train Loss: {:.4f} \\t train Accuracy: {:.4f}'.format(i, train_loss, train_acc*100))\n",
    "    val_loss, val_acc = Val()\n",
    "    print('Epoch: {} \\t val Loss: {:.4f} \\t val Accuracy: {:.4f}'.format(i, val_loss, val_acc*100))\n",
    "\n",
    "    train_acc_list.append(train_acc)\n",
    "    val_acc_list.append(val_acc)\n",
    "        \n",
    "    if best_acc < val_acc:\n",
    "        best_acc = val_acc\n",
    "        torch.save(model.state_dict(), './model.pth')\n",
    "        print('Saved model')\n",
    "\n",
    "\n"
   ]
  },
  {
   "cell_type": "code",
   "execution_count": 20,
   "id": "20fd1391",
   "metadata": {
    "execution": {
     "iopub.execute_input": "2022-09-04T14:43:35.870124Z",
     "iopub.status.busy": "2022-09-04T14:43:35.869820Z",
     "iopub.status.idle": "2022-09-04T14:43:36.112229Z",
     "shell.execute_reply": "2022-09-04T14:43:36.111355Z"
    },
    "papermill": {
     "duration": 0.252958,
     "end_time": "2022-09-04T14:43:36.114219",
     "exception": false,
     "start_time": "2022-09-04T14:43:35.861261",
     "status": "completed"
    },
    "tags": []
   },
   "outputs": [
    {
     "data": {
      "image/png": "[encoded data removed]",
      "text/plain": [
       "<Figure size 432x288 with 1 Axes>"
      ]
     },
     "metadata": {
      "needs_background": "light"
     },
     "output_type": "display_data"
    }
   ],
   "source": [
    "# Plotting the training and validation accuracy\n",
    "plt.plot(train_acc_list, label = 'Training Accuracy')\n",
    "plt.plot(val_acc_list, label = 'Validation Accuracy')\n",
    "plt.legend()\n",
    "plt.show()\n"
   ]
  },
  {
   "cell_type": "code",
   "execution_count": 21,
   "id": "3037cc43",
   "metadata": {
    "execution": {
     "iopub.execute_input": "2022-09-04T14:43:36.131817Z",
     "iopub.status.busy": "2022-09-04T14:43:36.131211Z",
     "iopub.status.idle": "2022-09-04T14:43:36.155246Z",
     "shell.execute_reply": "2022-09-04T14:43:36.154268Z"
    },
    "papermill": {
     "duration": 0.034612,
     "end_time": "2022-09-04T14:43:36.157319",
     "exception": false,
     "start_time": "2022-09-04T14:43:36.122707",
     "status": "completed"
    },
    "tags": []
   },
   "outputs": [
    {
     "data": {
      "text/html": [
       "<div>\n",
       "<style scoped>\n",
       "    .dataframe tbody tr th:only-of-type {\n",
       "        vertical-align: middle;\n",
       "    }\n",
       "\n",
       "    .dataframe tbody tr th {\n",
       "        vertical-align: top;\n",
       "    }\n",
       "\n",
       "    .dataframe thead th {\n",
       "        text-align: right;\n",
       "    }\n",
       "</style>\n",
       "<table border=\"1\" class=\"dataframe\">\n",
       "  <thead>\n",
       "    <tr style=\"text-align: right;\">\n",
       "      <th></th>\n",
       "      <th>id</th>\n",
       "      <th>class</th>\n",
       "    </tr>\n",
       "  </thead>\n",
       "  <tbody>\n",
       "    <tr>\n",
       "      <th>0</th>\n",
       "      <td>9156739011499789258</td>\n",
       "      <td></td>\n",
       "    </tr>\n",
       "    <tr>\n",
       "      <th>1</th>\n",
       "      <td>2049465964503133373</td>\n",
       "      <td></td>\n",
       "    </tr>\n",
       "    <tr>\n",
       "      <th>2</th>\n",
       "      <td>6446998501027132988</td>\n",
       "      <td></td>\n",
       "    </tr>\n",
       "    <tr>\n",
       "      <th>3</th>\n",
       "      <td>4194396063119815321</td>\n",
       "      <td></td>\n",
       "    </tr>\n",
       "    <tr>\n",
       "      <th>4</th>\n",
       "      <td>9018117998187006009</td>\n",
       "      <td></td>\n",
       "    </tr>\n",
       "    <tr>\n",
       "      <th>...</th>\n",
       "      <td>...</td>\n",
       "      <td>...</td>\n",
       "    </tr>\n",
       "    <tr>\n",
       "      <th>1633</th>\n",
       "      <td>18302448610371772604</td>\n",
       "      <td></td>\n",
       "    </tr>\n",
       "    <tr>\n",
       "      <th>1634</th>\n",
       "      <td>15920672464676076400</td>\n",
       "      <td></td>\n",
       "    </tr>\n",
       "    <tr>\n",
       "      <th>1635</th>\n",
       "      <td>3232020170382870007</td>\n",
       "      <td></td>\n",
       "    </tr>\n",
       "    <tr>\n",
       "      <th>1636</th>\n",
       "      <td>3094804487341098468</td>\n",
       "      <td></td>\n",
       "    </tr>\n",
       "    <tr>\n",
       "      <th>1637</th>\n",
       "      <td>5827342261332058667</td>\n",
       "      <td></td>\n",
       "    </tr>\n",
       "  </tbody>\n",
       "</table>\n",
       "<p>1638 rows × 2 columns</p>\n",
       "</div>"
      ],
      "text/plain": [
       "                        id class\n",
       "0      9156739011499789258      \n",
       "1      2049465964503133373      \n",
       "2      6446998501027132988      \n",
       "3      4194396063119815321      \n",
       "4      9018117998187006009      \n",
       "...                    ...   ...\n",
       "1633  18302448610371772604      \n",
       "1634  15920672464676076400      \n",
       "1635   3232020170382870007      \n",
       "1636   3094804487341098468      \n",
       "1637   5827342261332058667      \n",
       "\n",
       "[1638 rows x 2 columns]"
      ]
     },
     "execution_count": 21,
     "metadata": {},
     "output_type": "execute_result"
    }
   ],
   "source": [
    "# Converting the predicted class to labels\n",
    "test_data = pd.read_csv('../input/opencv-pytorch-dl-course-classification/test.csv')\n",
    "test_data['id'] = test_data['id'].astype(str)\n",
    "test_data[\"class\"] = \"\"\n",
    "test_data"
   ]
  },
  {
   "cell_type": "code",
   "execution_count": 22,
   "id": "2a9c7736",
   "metadata": {
    "execution": {
     "iopub.execute_input": "2022-09-04T14:43:36.176616Z",
     "iopub.status.busy": "2022-09-04T14:43:36.175082Z",
     "iopub.status.idle": "2022-09-04T14:43:36.183140Z",
     "shell.execute_reply": "2022-09-04T14:43:36.182387Z"
    },
    "papermill": {
     "duration": 0.019069,
     "end_time": "2022-09-04T14:43:36.185148",
     "exception": false,
     "start_time": "2022-09-04T14:43:36.166079",
     "status": "completed"
    },
    "tags": []
   },
   "outputs": [],
   "source": [
    "# Decoding int lables to string labels\n",
    "def label_decoder(df):\n",
    "    if df== 0:\n",
    "        return 'githeri'\n",
    "    \n",
    "    elif df == 1:\n",
    "        return 'ugali'\n",
    "    \n",
    "    elif df== 2:\n",
    "        return 'kachumbari'\n",
    "    \n",
    "    elif df == 3:\n",
    "        return 'matoke'\n",
    "    \n",
    "    elif df == 4:\n",
    "        return 'sukumawiki'\n",
    "    \n",
    "    elif df== 5:\n",
    "        return 'bhaji'\n",
    "    \n",
    "    elif df == 6:\n",
    "        return 'nyamachoma'\n",
    "    \n",
    "    elif df == 7:\n",
    "        return 'mandazi'\n",
    "    \n",
    "    elif df== 8 :\n",
    "        return 'pilau'\n",
    "    \n",
    "    elif df== 9:\n",
    "        return 'chapati'\n",
    "    \n",
    "    elif df== 10:\n",
    "        return 'kukuchoma'\n",
    "    \n",
    "    elif df== 11:\n",
    "        return 'masalachips'\n",
    "    \n",
    "    elif df== 12:\n",
    "        return 'mukimo'"
   ]
  },
  {
   "cell_type": "code",
   "execution_count": 23,
   "id": "2d228df6",
   "metadata": {
    "execution": {
     "iopub.execute_input": "2022-09-04T14:43:36.203255Z",
     "iopub.status.busy": "2022-09-04T14:43:36.202353Z",
     "iopub.status.idle": "2022-09-04T14:43:36.210893Z",
     "shell.execute_reply": "2022-09-04T14:43:36.210077Z"
    },
    "papermill": {
     "duration": 0.019803,
     "end_time": "2022-09-04T14:43:36.212904",
     "exception": false,
     "start_time": "2022-09-04T14:43:36.193101",
     "status": "completed"
    },
    "tags": []
   },
   "outputs": [],
   "source": [
    "# Testing with unseen data and saving the predictions to submission requirements\n",
    "def Test():\n",
    "    model.eval()\n",
    "    with torch.no_grad():\n",
    "        trained_model = torch.load('./model.pth')\n",
    "        model.load_state_dict(trained_model)\n",
    "        for i in range(len(test_data[\"id\"])):\n",
    "            img_path = os.path.join('../input/opencv-pytorch-dl-course-classification/images/images', str(test_data[\"id\"][i])+'.jpg')\n",
    "            image = Image.open(img_path)\n",
    "            transformer =  transforms.Compose([transforms.Resize((300,300)),transforms.ToTensor(), \n",
    "                                          transforms.Normalize(mean = [0.485, 0.456, 0.406], std = [0.229, 0.224, 0.225])])\n",
    "            transformed_image = transformer(image).cuda()\n",
    "            predictions = model(transformed_image.unsqueeze(0))\n",
    "            predictions = F.softmax(predictions, dim = 1)\n",
    "            prediction = predictions.argmax(dim = 1)\n",
    "            test_data[\"class\"][i] = label_decoder(prediction.item())\n",
    "\n",
    "\n",
    "    test_data.to_csv('submission.csv', index = False)\n",
    "    \n",
    "    "
   ]
  },
  {
   "cell_type": "code",
   "execution_count": 24,
   "id": "74d582e1",
   "metadata": {
    "execution": {
     "iopub.execute_input": "2022-09-04T14:43:36.230389Z",
     "iopub.status.busy": "2022-09-04T14:43:36.230103Z",
     "iopub.status.idle": "2022-09-04T14:43:36.234761Z",
     "shell.execute_reply": "2022-09-04T14:43:36.233825Z"
    },
    "papermill": {
     "duration": 0.015805,
     "end_time": "2022-09-04T14:43:36.236873",
     "exception": false,
     "start_time": "2022-09-04T14:43:36.221068",
     "status": "completed"
    },
    "tags": []
   },
   "outputs": [],
   "source": [
    "  from ipykernel import kernelapp as app\n"
   ]
  },
  {
   "cell_type": "code",
   "execution_count": 25,
   "id": "ea733e0e",
   "metadata": {
    "execution": {
     "iopub.execute_input": "2022-09-04T14:43:36.253936Z",
     "iopub.status.busy": "2022-09-04T14:43:36.253514Z",
     "iopub.status.idle": "2022-09-04T14:44:58.797435Z",
     "shell.execute_reply": "2022-09-04T14:44:58.796499Z"
    },
    "papermill": {
     "duration": 82.555395,
     "end_time": "2022-09-04T14:44:58.800230",
     "exception": false,
     "start_time": "2022-09-04T14:43:36.244835",
     "status": "completed"
    },
    "tags": []
   },
   "outputs": [],
   "source": [
    "# Running the test\n",
    "Test()"
   ]
  }
 ],
 "metadata": {
  "kernelspec": {
   "display_name": "Python 3",
   "language": "python",
   "name": "python3"
  },
  "language_info": {
   "codemirror_mode": {
    "name": "ipython",
    "version": 3
   },
   "file_extension": ".py",
   "mimetype": "text/x-python",
   "name": "python",
   "nbconvert_exporter": "python",
   "pygments_lexer": "ipython3",
   "version": "3.7.12"
  },
  "papermill": {
   "default_parameters": {},
   "duration": 18826.219254,
   "end_time": "2022-09-04T14:45:00.568565",
   "environment_variables": {},
   "exception": null,
   "input_path": "__notebook__.ipynb",
   "output_path": "__notebook__.ipynb",
   "parameters": {},
   "start_time": "2022-09-04T09:31:14.349311",
   "version": "2.3.4"
  }
 },
 "nbformat": 4,
 "nbformat_minor": 5
}
