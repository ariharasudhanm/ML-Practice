{
 "cells": [
  {
   "cell_type": "code",
   "execution_count": 1,
   "id": "2cbed39c",
   "metadata": {
    "execution": {
     "iopub.execute_input": "2022-09-03T15:32:56.325517Z",
     "iopub.status.busy": "2022-09-03T15:32:56.324987Z",
     "iopub.status.idle": "2022-09-03T15:32:59.754639Z",
     "shell.execute_reply": "2022-09-03T15:32:59.753687Z"
    },
    "papermill": {
     "duration": 3.440601,
     "end_time": "2022-09-03T15:32:59.757240",
     "exception": false,
     "start_time": "2022-09-03T15:32:56.316639",
     "status": "completed"
    },
    "tags": []
   },
   "outputs": [],
   "source": [
    "import os\n",
    "import pandas as pd\n",
    "import matplotlib.pyplot as plt \n",
    "import torch\n",
    "import torchvision\n",
    "import numpy as np\n",
    "\n",
    "from PIL import Image\n",
    "from torch.utils.data import DataLoader, Dataset, RandomSampler, random_split, WeightedRandomSampler\n",
    "from torchvision import models\n",
    "import torchvision.transforms as transforms\n",
    "import torch.nn as nn\n",
    "import torch.optim as optim\n",
    "import torch.nn.functional as F\n",
    "from torch.optim import lr_scheduler\n",
    "import time\n",
    "import copy\n",
    "import albumentations as A\n",
    "from albumentations.pytorch import ToTensorV2\n",
    "import cv2\n"
   ]
  },
  {
   "cell_type": "code",
   "execution_count": 2,
   "id": "3e4c8158",
   "metadata": {
    "execution": {
     "iopub.execute_input": "2022-09-03T15:32:59.770338Z",
     "iopub.status.busy": "2022-09-03T15:32:59.769559Z",
     "iopub.status.idle": "2022-09-03T15:32:59.775568Z",
     "shell.execute_reply": "2022-09-03T15:32:59.774745Z"
    },
    "papermill": {
     "duration": 0.014565,
     "end_time": "2022-09-03T15:32:59.777612",
     "exception": false,
     "start_time": "2022-09-03T15:32:59.763047",
     "status": "completed"
    },
    "tags": []
   },
   "outputs": [],
   "source": [
    "# Installing additional package for efficient net\n",
    "#!pip install efficientnet_pytorch\n",
    "#from efficientnet_pytorch import EfficientNet"
   ]
  },
  {
   "cell_type": "code",
   "execution_count": 3,
   "id": "a8066206",
   "metadata": {
    "execution": {
     "iopub.execute_input": "2022-09-03T15:32:59.789284Z",
     "iopub.status.busy": "2022-09-03T15:32:59.788987Z",
     "iopub.status.idle": "2022-09-03T15:32:59.813209Z",
     "shell.execute_reply": "2022-09-03T15:32:59.811917Z"
    },
    "papermill": {
     "duration": 0.034729,
     "end_time": "2022-09-03T15:32:59.817551",
     "exception": false,
     "start_time": "2022-09-03T15:32:59.782822",
     "status": "completed"
    },
    "tags": []
   },
   "outputs": [
    {
     "name": "stdout",
     "output_type": "stream",
     "text": [
      "train_data info:  chapati        862\n",
      "nyamachoma     784\n",
      "bhaji          632\n",
      "ugali          628\n",
      "mandazi        620\n",
      "kachumbari     494\n",
      "matoke         483\n",
      "githeri        479\n",
      "masalachips    438\n",
      "sukumawiki     402\n",
      "pilau          329\n",
      "mukimo         212\n",
      "kukuchoma      173\n",
      "Name: class, dtype: int64\n"
     ]
    }
   ],
   "source": [
    "# Data reading\n",
    "train_csv = pd.read_csv('../input/opencv-pytorch-dl-course-classification/train.csv')\n",
    "train_data = pd.DataFrame(train_csv)\n",
    "print(\"train_data info: \", train_data['class'].value_counts())"
   ]
  },
  {
   "cell_type": "code",
   "execution_count": 4,
   "id": "15038c0d",
   "metadata": {
    "execution": {
     "iopub.execute_input": "2022-09-03T15:32:59.830443Z",
     "iopub.status.busy": "2022-09-03T15:32:59.830144Z",
     "iopub.status.idle": "2022-09-03T15:32:59.847344Z",
     "shell.execute_reply": "2022-09-03T15:32:59.846269Z"
    },
    "papermill": {
     "duration": 0.027585,
     "end_time": "2022-09-03T15:32:59.850966",
     "exception": false,
     "start_time": "2022-09-03T15:32:59.823381",
     "status": "completed"
    },
    "tags": []
   },
   "outputs": [
    {
     "name": "stdout",
     "output_type": "stream",
     "text": [
      "<class 'pandas.core.frame.DataFrame'>\n",
      "RangeIndex: 6536 entries, 0 to 6535\n",
      "Data columns (total 2 columns):\n",
      " #   Column  Non-Null Count  Dtype \n",
      "---  ------  --------------  ----- \n",
      " 0   id      6536 non-null   uint64\n",
      " 1   class   6536 non-null   object\n",
      "dtypes: object(1), uint64(1)\n",
      "memory usage: 102.2+ KB\n",
      "None\n"
     ]
    }
   ],
   "source": [
    "print(train_data.info())"
   ]
  },
  {
   "cell_type": "code",
   "execution_count": 5,
   "id": "7d2bc300",
   "metadata": {
    "execution": {
     "iopub.execute_input": "2022-09-03T15:32:59.865485Z",
     "iopub.status.busy": "2022-09-03T15:32:59.863896Z",
     "iopub.status.idle": "2022-09-03T15:32:59.872370Z",
     "shell.execute_reply": "2022-09-03T15:32:59.871457Z"
    },
    "papermill": {
     "duration": 0.017538,
     "end_time": "2022-09-03T15:32:59.874605",
     "exception": false,
     "start_time": "2022-09-03T15:32:59.857067",
     "status": "completed"
    },
    "tags": []
   },
   "outputs": [],
   "source": [
    "# Label Encoder function\n",
    "def label_encoder(df):\n",
    "    if df[\"class\"] == 'githeri' :\n",
    "        return 0\n",
    "    \n",
    "    elif df[\"class\"] == 'ugali' :\n",
    "        return 1\n",
    "    \n",
    "    elif df[\"class\"] == 'kachumbari' :\n",
    "        return 2\n",
    "    \n",
    "    elif df[\"class\"] == 'matoke':\n",
    "        return 3\n",
    "    \n",
    "    elif df[\"class\"] == 'sukumawiki':\n",
    "        return 4\n",
    "    \n",
    "    elif df['class'] == 'bhaji':\n",
    "        return 5\n",
    "    \n",
    "    elif df['class'] == 'nyamachoma':\n",
    "        return 6\n",
    "    \n",
    "    elif df['class'] == 'mandazi':\n",
    "        return 7\n",
    "    \n",
    "    elif df['class'] == 'pilau':\n",
    "        return 8\n",
    "    \n",
    "    elif df['class'] == 'chapati':\n",
    "        return 9\n",
    "    \n",
    "    elif df['class'] == 'kukuchoma':\n",
    "        return 10\n",
    "    \n",
    "    elif df['class'] == 'masalachips':\n",
    "        return 11\n",
    "    \n",
    "    elif df['class'] == 'mukimo':\n",
    "        return 12"
   ]
  },
  {
   "cell_type": "code",
   "execution_count": 6,
   "id": "cc04c15b",
   "metadata": {
    "execution": {
     "iopub.execute_input": "2022-09-03T15:32:59.886795Z",
     "iopub.status.busy": "2022-09-03T15:32:59.886506Z",
     "iopub.status.idle": "2022-09-03T15:33:00.082207Z",
     "shell.execute_reply": "2022-09-03T15:33:00.080388Z"
    },
    "papermill": {
     "duration": 0.204669,
     "end_time": "2022-09-03T15:33:00.084926",
     "exception": false,
     "start_time": "2022-09-03T15:32:59.880257",
     "status": "completed"
    },
    "tags": []
   },
   "outputs": [
    {
     "name": "stdout",
     "output_type": "stream",
     "text": [
      "                        id       class  labels\n",
      "0     14278962987112149800     githeri       0\n",
      "1     13190220095752321996       ugali       1\n",
      "2     10431803432626641638  kachumbari       2\n",
      "3      4222441716327528413     githeri       0\n",
      "4      2547906925836120627      matoke       3\n",
      "...                    ...         ...     ...\n",
      "6531   9491780363201908054      matoke       3\n",
      "6532    938716700684692863     chapati       9\n",
      "6533  12487998559342412135       ugali       1\n",
      "6534   3466916091782561952  kachumbari       2\n",
      "6535   4410319397208590457     chapati       9\n",
      "\n",
      "[6536 rows x 3 columns]\n"
     ]
    }
   ],
   "source": [
    "# Adding labels column \n",
    "train_data['labels'] = train_data.apply(label_encoder, axis = 1)\n",
    "train_data[\"id\"] = train_data[\"id\"].astype(str)\n",
    "print(train_data)"
   ]
  },
  {
   "cell_type": "code",
   "execution_count": 7,
   "id": "51a1c24c",
   "metadata": {
    "execution": {
     "iopub.execute_input": "2022-09-03T15:33:00.116801Z",
     "iopub.status.busy": "2022-09-03T15:33:00.116151Z",
     "iopub.status.idle": "2022-09-03T15:33:00.146241Z",
     "shell.execute_reply": "2022-09-03T15:33:00.145383Z"
    },
    "papermill": {
     "duration": 0.051043,
     "end_time": "2022-09-03T15:33:00.148537",
     "exception": false,
     "start_time": "2022-09-03T15:33:00.097494",
     "status": "completed"
    },
    "tags": []
   },
   "outputs": [],
   "source": [
    "# converting pandas dataframe to csv\n",
    "train_data.to_csv(\"train.csv\")"
   ]
  },
  {
   "cell_type": "code",
   "execution_count": 8,
   "id": "5f1432b8",
   "metadata": {
    "execution": {
     "iopub.execute_input": "2022-09-03T15:33:00.166673Z",
     "iopub.status.busy": "2022-09-03T15:33:00.166369Z",
     "iopub.status.idle": "2022-09-03T15:33:00.178959Z",
     "shell.execute_reply": "2022-09-03T15:33:00.176139Z"
    },
    "papermill": {
     "duration": 0.024049,
     "end_time": "2022-09-03T15:33:00.181065",
     "exception": false,
     "start_time": "2022-09-03T15:33:00.157016",
     "status": "completed"
    },
    "tags": []
   },
   "outputs": [],
   "source": [
    "# Custom dataloader function\n",
    "class Kenyafood_data(Dataset):\n",
    "    def __init__(self, csv_file, root_dir, transform):\n",
    "        self.annotations = pd.read_csv(csv_file)\n",
    "        self.root_dir = root_dir\n",
    "        self.transform = transform\n",
    "    \n",
    "    def __len__(self):\n",
    "        return len(self.annotations['id'])\n",
    "    \n",
    "    def __getitem__(self, index):\n",
    "        img_path = os.path.join(self.root_dir, str(self.annotations['id'][index])+'.jpg')\n",
    "        image = cv2.imread(img_path)\n",
    "        image = cv2.cvtColor(image, cv2.COLOR_BGR2RGB)\n",
    "        y_label = torch.tensor(int(self.annotations['labels'][index]))\n",
    "        \n",
    "        if self.transform is not None:\n",
    "            image = self.transform(image = image)['image']\n",
    "            \n",
    "        return image, y_label"
   ]
  },
  {
   "cell_type": "code",
   "execution_count": 9,
   "id": "24196889",
   "metadata": {
    "execution": {
     "iopub.execute_input": "2022-09-03T15:33:00.193404Z",
     "iopub.status.busy": "2022-09-03T15:33:00.193140Z",
     "iopub.status.idle": "2022-09-03T15:33:00.208709Z",
     "shell.execute_reply": "2022-09-03T15:33:00.207853Z"
    },
    "papermill": {
     "duration": 0.023846,
     "end_time": "2022-09-03T15:33:00.210588",
     "exception": false,
     "start_time": "2022-09-03T15:33:00.186742",
     "status": "completed"
    },
    "tags": []
   },
   "outputs": [],
   "source": [
    "# Necessary transformations for training data\n",
    "transformations = A.Compose([A.OneOf([\n",
    "                                      A.RGBShift(r_shift_limit=20, g_shift_limit=20, b_shift_limit=20, always_apply=False, p=0.6), \n",
    "                                      A.CLAHE(clip_limit=4.0, tile_grid_size=(8, 8))\n",
    "                                     ], p=1),                                \n",
    "                                A.OneOf([\n",
    "                                    A.Rotate(limit = 40, p = 0.7),\n",
    "                                    A.GaussNoise(var_limit=(10.0, 50.0), mean=0, per_channel=True, always_apply=False, p=0.4),\n",
    "                                    A.MedianBlur(blur_limit=7, always_apply=False, p=0.4),\n",
    "                                ], p = 1.0),\n",
    "                             \n",
    "                                A.OneOf([\n",
    "                                    A.GaussianBlur(blur_limit=(3, 7), sigma_limit=0, always_apply=False, p=0.4),\n",
    "                                    A.VerticalFlip(p = 0.7),\n",
    "                                ], p =1.0),\n",
    "                                 \n",
    "                                A.OneOf([\n",
    "                                    A.Sharpen(alpha=(0.2, 0.5), lightness=(0.5, 1.0), always_apply=False, p=0.5),\n",
    "                                    A.HorizontalFlip(p = 0.7),\n",
    "                                ], p = 1.0),\n",
    "                                \n",
    "                                A.OneOf([\n",
    "                                    A.RandomBrightnessContrast(brightness_limit=0.2, contrast_limit=0.2, brightness_by_max=True, always_apply=False, p=0.4),\n",
    "                                    A.ColorJitter(brightness=0.2, contrast=0.2, saturation=0.2, hue=0.2, always_apply=False, p=0.6),\n",
    "                                ], p=1.0),\n",
    "                                \n",
    "                                A.OneOf([\n",
    "                                    A.Posterize(num_bits=4, always_apply=False, p=0.6),\n",
    "                                    A.FancyPCA(alpha=0.1, always_apply=False, p=0.4),\n",
    "                                ], p = 1.0),\n",
    "                             \n",
    "                                A.OneOf([\n",
    "                                    A.Solarize(threshold=128, always_apply=False, p=0.7),\n",
    "                                    A.GaussNoise(var_limit=(10.0, 50.0), mean=0, per_channel=True, always_apply=False, p=0.3),\n",
    "                                ], p = 1.0),\n",
    "                               \n",
    "                                A.OneOf([\n",
    "                                    A.Affine(scale=None, translate_percent=None, translate_px=None, rotate=None, shear=None, interpolation=1, mask_interpolation=0, cval=0, cval_mask=0, mode=0, fit_output=False, keep_ratio=False, always_apply=False, p=0.6),\n",
    "                                    A.GridDistortion(num_steps=5, distort_limit=0.3, interpolation=1, border_mode=4, value=None, mask_value=None, always_apply=False, p=0.4)\n",
    "                                ], p = 1.0),\n",
    "                                \n",
    "                                A.OneOf([\n",
    "                                    A.Perspective(scale=(0.05, 0.1), keep_size=True, pad_mode=0, pad_val=0, mask_pad_val=0, fit_output=False, interpolation=1, always_apply=False, p=0.6),\n",
    "                                    A.ShiftScaleRotate(shift_limit=0.0625, scale_limit=0.1, rotate_limit=45, interpolation=1, border_mode=4, value=None, mask_value=None, shift_limit_x=None, shift_limit_y=None, rotate_method='largest_box', always_apply=False, p=0.4)\n",
    "                                ], p = 1.0),\n",
    "                             \n",
    "                                A.Resize(width = 380, height = 380),\n",
    "                                A.Normalize(mean=(0.485, 0.456, 0.406), std=(0.229, 0.224, 0.225)),\n",
    "                                ToTensorV2()\n",
    "                        ])"
   ]
  },
  {
   "cell_type": "code",
   "execution_count": 10,
   "id": "b92cb08f",
   "metadata": {
    "execution": {
     "iopub.execute_input": "2022-09-03T15:33:00.222408Z",
     "iopub.status.busy": "2022-09-03T15:33:00.222152Z",
     "iopub.status.idle": "2022-09-03T15:33:00.234523Z",
     "shell.execute_reply": "2022-09-03T15:33:00.233680Z"
    },
    "papermill": {
     "duration": 0.020594,
     "end_time": "2022-09-03T15:33:00.236523",
     "exception": false,
     "start_time": "2022-09-03T15:33:00.215929",
     "status": "completed"
    },
    "tags": []
   },
   "outputs": [],
   "source": [
    "# Splitting training and validation samples\n",
    "imageloader = Kenyafood_data(csv_file = \"./train.csv\", root_dir = \"../input/opencv-pytorch-dl-course-classification/images/images\",\n",
    "                                          transform = transformations)\n",
    "train_sampler, val_sampler =  random_split(imageloader, [5228,1308]) "
   ]
  },
  {
   "cell_type": "code",
   "execution_count": 11,
   "id": "a927c5a9",
   "metadata": {
    "execution": {
     "iopub.execute_input": "2022-09-03T15:33:00.249537Z",
     "iopub.status.busy": "2022-09-03T15:33:00.248125Z",
     "iopub.status.idle": "2022-09-03T15:33:00.253277Z",
     "shell.execute_reply": "2022-09-03T15:33:00.252406Z"
    },
    "papermill": {
     "duration": 0.013341,
     "end_time": "2022-09-03T15:33:00.255349",
     "exception": false,
     "start_time": "2022-09-03T15:33:00.242008",
     "status": "completed"
    },
    "tags": []
   },
   "outputs": [],
   "source": [
    "# Creating dataloader for training and validation samples\n",
    "train_samples = DataLoader(train_sampler, batch_size = 16, num_workers = 0)\n",
    "val_samples = DataLoader(val_sampler, batch_size = 16, num_workers = 0)"
   ]
  },
  {
   "cell_type": "code",
   "execution_count": 12,
   "id": "e2be9592",
   "metadata": {
    "execution": {
     "iopub.execute_input": "2022-09-03T15:33:00.268944Z",
     "iopub.status.busy": "2022-09-03T15:33:00.268299Z",
     "iopub.status.idle": "2022-09-03T15:33:04.522179Z",
     "shell.execute_reply": "2022-09-03T15:33:04.521146Z"
    },
    "papermill": {
     "duration": 4.264778,
     "end_time": "2022-09-03T15:33:04.525503",
     "exception": false,
     "start_time": "2022-09-03T15:33:00.260725",
     "status": "completed"
    },
    "tags": []
   },
   "outputs": [
    {
     "name": "stdout",
     "output_type": "stream",
     "text": [
      "torch.Size([16, 3, 380, 380])\n",
      "327\n"
     ]
    }
   ],
   "source": [
    "# Checking the dataloader before training\n",
    "j = next(iter(train_samples))\n",
    "print(j[0].size())\n",
    "print(len(train_samples))"
   ]
  },
  {
   "cell_type": "code",
   "execution_count": 13,
   "id": "227322f9",
   "metadata": {
    "execution": {
     "iopub.execute_input": "2022-09-03T15:33:04.540969Z",
     "iopub.status.busy": "2022-09-03T15:33:04.538990Z",
     "iopub.status.idle": "2022-09-03T15:33:11.438011Z",
     "shell.execute_reply": "2022-09-03T15:33:11.437026Z"
    },
    "papermill": {
     "duration": 6.908527,
     "end_time": "2022-09-03T15:33:11.440518",
     "exception": false,
     "start_time": "2022-09-03T15:33:04.531991",
     "status": "completed"
    },
    "tags": []
   },
   "outputs": [
    {
     "name": "stderr",
     "output_type": "stream",
     "text": [
      "Downloading: \"https://download.pytorch.org/models/efficientnet_b4_rwightman-7eb33cd5.pth\" to /root/.cache/torch/hub/checkpoints/efficientnet_b4_rwightman-7eb33cd5.pth\n"
     ]
    },
    {
     "data": {
      "application/vnd.jupyter.widget-view+json": {
       "model_id": "408f0e5d5182454ebc37cd16176d5ffc",
       "version_major": 2,
       "version_minor": 0
      },
      "text/plain": [
       "  0%|          | 0.00/74.5M [00:00<?, ?B/s]"
      ]
     },
     "metadata": {},
     "output_type": "display_data"
    }
   ],
   "source": [
    "# Loading pre-trained model\n",
    "res_model = models.efficientnet_b4(pretrained = True)"
   ]
  },
  {
   "cell_type": "code",
   "execution_count": 14,
   "id": "2ee29cd2",
   "metadata": {
    "execution": {
     "iopub.execute_input": "2022-09-03T15:33:11.454106Z",
     "iopub.status.busy": "2022-09-03T15:33:11.453535Z",
     "iopub.status.idle": "2022-09-03T15:33:11.459594Z",
     "shell.execute_reply": "2022-09-03T15:33:11.458806Z"
    },
    "papermill": {
     "duration": 0.014851,
     "end_time": "2022-09-03T15:33:11.461586",
     "exception": false,
     "start_time": "2022-09-03T15:33:11.446735",
     "status": "completed"
    },
    "tags": []
   },
   "outputs": [],
   "source": [
    "# Changing the classfifier layers according to our classes\n",
    "res_model.classifier[1] = nn.Linear(in_features=1792, out_features=13)"
   ]
  },
  {
   "cell_type": "code",
   "execution_count": 15,
   "id": "a445678b",
   "metadata": {
    "execution": {
     "iopub.execute_input": "2022-09-03T15:33:11.473738Z",
     "iopub.status.busy": "2022-09-03T15:33:11.473445Z",
     "iopub.status.idle": "2022-09-03T15:33:11.480528Z",
     "shell.execute_reply": "2022-09-03T15:33:11.479677Z"
    },
    "papermill": {
     "duration": 0.015325,
     "end_time": "2022-09-03T15:33:11.482427",
     "exception": false,
     "start_time": "2022-09-03T15:33:11.467102",
     "status": "completed"
    },
    "tags": []
   },
   "outputs": [
    {
     "data": {
      "text/plain": [
       "Sequential(\n",
       "  (0): Dropout(p=0.4, inplace=True)\n",
       "  (1): Linear(in_features=1792, out_features=13, bias=True)\n",
       ")"
      ]
     },
     "execution_count": 15,
     "metadata": {},
     "output_type": "execute_result"
    }
   ],
   "source": [
    "res_model.classifier"
   ]
  },
  {
   "cell_type": "code",
   "execution_count": 16,
   "id": "624da7f1",
   "metadata": {
    "execution": {
     "iopub.execute_input": "2022-09-03T15:33:11.495951Z",
     "iopub.status.busy": "2022-09-03T15:33:11.495155Z",
     "iopub.status.idle": "2022-09-03T15:33:11.500112Z",
     "shell.execute_reply": "2022-09-03T15:33:11.499287Z"
    },
    "papermill": {
     "duration": 0.013776,
     "end_time": "2022-09-03T15:33:11.502121",
     "exception": false,
     "start_time": "2022-09-03T15:33:11.488345",
     "status": "completed"
    },
    "tags": []
   },
   "outputs": [],
   "source": [
    "# Evaluating Accuracy \n",
    "def accuracy_score(predictions, labels):\n",
    "    return (predictions.argmax(dim = 1) == labels).float().mean().item()\n"
   ]
  },
  {
   "cell_type": "code",
   "execution_count": 17,
   "id": "fa96292a",
   "metadata": {
    "execution": {
     "iopub.execute_input": "2022-09-03T15:33:11.515013Z",
     "iopub.status.busy": "2022-09-03T15:33:11.514143Z",
     "iopub.status.idle": "2022-09-03T15:33:11.524413Z",
     "shell.execute_reply": "2022-09-03T15:33:11.523660Z"
    },
    "papermill": {
     "duration": 0.018633,
     "end_time": "2022-09-03T15:33:11.526337",
     "exception": false,
     "start_time": "2022-09-03T15:33:11.507704",
     "status": "completed"
    },
    "tags": []
   },
   "outputs": [],
   "source": [
    "# Training function\n",
    "optimizer = optim.Adam(res_model.parameters(), lr=1e-3, eps=1e-08)\n",
    "criterion = nn.CrossEntropyLoss()\n",
    "model = res_model\n",
    "\n",
    "def Train():\n",
    "    \n",
    "    loss_list = []\n",
    "    acc_list = []\n",
    "    \n",
    "    model.cuda()\n",
    "    model.train()\n",
    "\n",
    "    for i, (images, labels) in enumerate(train_samples):\n",
    "        images = images.cuda()\n",
    "\n",
    "        labels = labels.cuda()\n",
    "\n",
    "        optimizer.zero_grad()\n",
    "\n",
    "        prediction = model(images)\n",
    "\n",
    "        loss = criterion(prediction, labels)\n",
    "\n",
    "        loss.backward()\n",
    "\n",
    "        optimizer.step()\n",
    "        \n",
    "        prob = F.softmax(prediction, dim = 1)\n",
    "\n",
    "        loss_list.append(loss.item()) \n",
    "\n",
    "        acc = accuracy_score(prob, labels)\n",
    "        acc_list.append(acc)\n",
    "\n",
    "\n",
    "    final_loss = sum(loss_list)/len(loss_list)\n",
    "    final_acc = sum(acc_list)/len(acc_list)\n",
    "\n",
    "    return final_loss, final_acc\n",
    "        "
   ]
  },
  {
   "cell_type": "code",
   "execution_count": 18,
   "id": "464ef33f",
   "metadata": {
    "execution": {
     "iopub.execute_input": "2022-09-03T15:33:11.539605Z",
     "iopub.status.busy": "2022-09-03T15:33:11.538757Z",
     "iopub.status.idle": "2022-09-03T15:33:11.545739Z",
     "shell.execute_reply": "2022-09-03T15:33:11.544930Z"
    },
    "papermill": {
     "duration": 0.015409,
     "end_time": "2022-09-03T15:33:11.547652",
     "exception": false,
     "start_time": "2022-09-03T15:33:11.532243",
     "status": "completed"
    },
    "tags": []
   },
   "outputs": [],
   "source": [
    "# Validation function\n",
    "def Val():\n",
    "\n",
    "    acc_list = []\n",
    "    loss_list = []\n",
    "\n",
    "    model.eval()\n",
    "    model.cuda()\n",
    "    \n",
    "    with torch.no_grad():\n",
    "        for i, (images, labels) in enumerate(val_samples):\n",
    "            images = images.cuda()\n",
    "\n",
    "            labels = labels.cuda()\n",
    "\n",
    "            prediction = model(images)\n",
    "\n",
    "            prob = F.softmax(prediction, dim = 1)\n",
    "\n",
    "            loss = criterion(prediction, labels)\n",
    "\n",
    "            loss_list.append(loss.item())\n",
    "\n",
    "            acc = accuracy_score(prob, labels)\n",
    "            acc_list.append(acc)\n",
    "\n",
    "\n",
    "    final_loss = sum(loss_list)/len(loss_list)\n",
    "    final_acc = sum(acc_list)/len(acc_list)\n",
    "        \n",
    "    return final_loss, final_acc"
   ]
  },
  {
   "cell_type": "code",
   "execution_count": 19,
   "id": "81f173ec",
   "metadata": {
    "execution": {
     "iopub.execute_input": "2022-09-03T15:33:11.560142Z",
     "iopub.status.busy": "2022-09-03T15:33:11.559845Z",
     "iopub.status.idle": "2022-09-03T21:38:11.709799Z",
     "shell.execute_reply": "2022-09-03T21:38:11.708804Z"
    },
    "papermill": {
     "duration": 21900.16682,
     "end_time": "2022-09-03T21:38:11.720038",
     "exception": false,
     "start_time": "2022-09-03T15:33:11.553218",
     "status": "completed"
    },
    "tags": []
   },
   "outputs": [
    {
     "name": "stdout",
     "output_type": "stream",
     "text": [
      "Epoch: 0 \t train Loss: 1.5360 \t train Accuracy: 51.0831\n",
      "Epoch: 0 \t val Loss: 1.1102 \t val Accuracy: 64.9898\n",
      "Saved model\n",
      "Epoch: 1 \t train Loss: 1.0749 \t train Accuracy: 64.8509\n",
      "Epoch: 1 \t val Loss: 1.0029 \t val Accuracy: 67.9116\n",
      "Saved model\n",
      "Epoch: 2 \t train Loss: 0.9128 \t train Accuracy: 70.0879\n",
      "Epoch: 2 \t val Loss: 0.9822 \t val Accuracy: 67.1748\n",
      "Epoch: 3 \t train Loss: 0.7974 \t train Accuracy: 73.7895\n",
      "Epoch: 3 \t val Loss: 1.0535 \t val Accuracy: 65.8791\n",
      "Epoch: 4 \t train Loss: 0.7570 \t train Accuracy: 74.8089\n",
      "Epoch: 4 \t val Loss: 1.0266 \t val Accuracy: 68.5976\n",
      "Saved model\n",
      "Epoch: 5 \t train Loss: 0.6349 \t train Accuracy: 78.6251\n",
      "Epoch: 5 \t val Loss: 0.9654 \t val Accuracy: 69.4106\n",
      "Saved model\n",
      "Epoch: 6 \t train Loss: 0.5845 \t train Accuracy: 80.4218\n",
      "Epoch: 6 \t val Loss: 1.0675 \t val Accuracy: 68.6230\n",
      "Epoch: 7 \t train Loss: 0.5581 \t train Accuracy: 81.3774\n",
      "Epoch: 7 \t val Loss: 1.0089 \t val Accuracy: 68.8008\n",
      "Epoch: 8 \t train Loss: 0.5075 \t train Accuracy: 83.1549\n",
      "Epoch: 8 \t val Loss: 1.0170 \t val Accuracy: 69.7917\n",
      "Saved model\n",
      "Epoch: 9 \t train Loss: 0.4542 \t train Accuracy: 84.7095\n",
      "Epoch: 9 \t val Loss: 1.2521 \t val Accuracy: 66.9970\n",
      "Epoch: 10 \t train Loss: 0.4373 \t train Accuracy: 85.9455\n",
      "Epoch: 10 \t val Loss: 1.1830 \t val Accuracy: 67.0224\n",
      "Epoch: 11 \t train Loss: 0.4052 \t train Accuracy: 86.2449\n",
      "Epoch: 11 \t val Loss: 1.3089 \t val Accuracy: 64.4817\n",
      "Epoch: 12 \t train Loss: 0.4113 \t train Accuracy: 85.9646\n",
      "Epoch: 12 \t val Loss: 1.1645 \t val Accuracy: 69.5884\n",
      "Epoch: 13 \t train Loss: 0.3295 \t train Accuracy: 89.6598\n",
      "Epoch: 13 \t val Loss: 1.2066 \t val Accuracy: 67.8100\n",
      "Epoch: 14 \t train Loss: 0.3178 \t train Accuracy: 89.6598\n",
      "Epoch: 14 \t val Loss: 1.2486 \t val Accuracy: 68.4959\n"
     ]
    }
   ],
   "source": [
    "# Training the model\n",
    "best_acc = 0\n",
    "\n",
    "train_acc_list = []\n",
    "val_acc_list = []\n",
    "\n",
    "\n",
    "for i in range(15):\n",
    "    train_loss, train_acc = Train()\n",
    "    print('Epoch: {} \\t train Loss: {:.4f} \\t train Accuracy: {:.4f}'.format(i, train_loss, train_acc*100))\n",
    "    val_loss, val_acc = Val()\n",
    "    print('Epoch: {} \\t val Loss: {:.4f} \\t val Accuracy: {:.4f}'.format(i, val_loss, val_acc*100))\n",
    "\n",
    "    train_acc_list.append(train_acc)\n",
    "    val_acc_list.append(val_acc)\n",
    "        \n",
    "    if best_acc < val_acc:\n",
    "        best_acc = val_acc\n",
    "        torch.save(model.state_dict(), './model.pth')\n",
    "        print('Saved model')\n",
    "\n",
    "\n"
   ]
  },
  {
   "cell_type": "code",
   "execution_count": 20,
   "id": "15abb6b1",
   "metadata": {
    "execution": {
     "iopub.execute_input": "2022-09-03T21:38:11.737006Z",
     "iopub.status.busy": "2022-09-03T21:38:11.736720Z",
     "iopub.status.idle": "2022-09-03T21:38:11.961598Z",
     "shell.execute_reply": "2022-09-03T21:38:11.960693Z"
    },
    "papermill": {
     "duration": 0.235298,
     "end_time": "2022-09-03T21:38:11.963672",
     "exception": false,
     "start_time": "2022-09-03T21:38:11.728374",
     "status": "completed"
    },
    "tags": []
   },
   "outputs": [
    {
     "data": {
      "image/png": "[encoded data removed]",
      "text/plain": [
       "<Figure size 432x288 with 1 Axes>"
      ]
     },
     "metadata": {
      "needs_background": "light"
     },
     "output_type": "display_data"
    }
   ],
   "source": [
    "# Plotting the training and validation accuracy\n",
    "plt.plot(train_acc_list, label = 'Training Accuracy')\n",
    "plt.plot(val_acc_list, label = 'Validation Accuracy')\n",
    "plt.legend()\n",
    "plt.show()\n"
   ]
  },
  {
   "cell_type": "code",
   "execution_count": 21,
   "id": "4e605819",
   "metadata": {
    "execution": {
     "iopub.execute_input": "2022-09-03T21:38:11.982546Z",
     "iopub.status.busy": "2022-09-03T21:38:11.981155Z",
     "iopub.status.idle": "2022-09-03T21:38:12.005275Z",
     "shell.execute_reply": "2022-09-03T21:38:12.004451Z"
    },
    "papermill": {
     "duration": 0.035617,
     "end_time": "2022-09-03T21:38:12.007485",
     "exception": false,
     "start_time": "2022-09-03T21:38:11.971868",
     "status": "completed"
    },
    "tags": []
   },
   "outputs": [
    {
     "data": {
      "text/html": [
       "<div>\n",
       "<style scoped>\n",
       "    .dataframe tbody tr th:only-of-type {\n",
       "        vertical-align: middle;\n",
       "    }\n",
       "\n",
       "    .dataframe tbody tr th {\n",
       "        vertical-align: top;\n",
       "    }\n",
       "\n",
       "    .dataframe thead th {\n",
       "        text-align: right;\n",
       "    }\n",
       "</style>\n",
       "<table border=\"1\" class=\"dataframe\">\n",
       "  <thead>\n",
       "    <tr style=\"text-align: right;\">\n",
       "      <th></th>\n",
       "      <th>id</th>\n",
       "      <th>class</th>\n",
       "    </tr>\n",
       "  </thead>\n",
       "  <tbody>\n",
       "    <tr>\n",
       "      <th>0</th>\n",
       "      <td>9156739011499789258</td>\n",
       "      <td></td>\n",
       "    </tr>\n",
       "    <tr>\n",
       "      <th>1</th>\n",
       "      <td>2049465964503133373</td>\n",
       "      <td></td>\n",
       "    </tr>\n",
       "    <tr>\n",
       "      <th>2</th>\n",
       "      <td>6446998501027132988</td>\n",
       "      <td></td>\n",
       "    </tr>\n",
       "    <tr>\n",
       "      <th>3</th>\n",
       "      <td>4194396063119815321</td>\n",
       "      <td></td>\n",
       "    </tr>\n",
       "    <tr>\n",
       "      <th>4</th>\n",
       "      <td>9018117998187006009</td>\n",
       "      <td></td>\n",
       "    </tr>\n",
       "    <tr>\n",
       "      <th>...</th>\n",
       "      <td>...</td>\n",
       "      <td>...</td>\n",
       "    </tr>\n",
       "    <tr>\n",
       "      <th>1633</th>\n",
       "      <td>18302448610371772604</td>\n",
       "      <td></td>\n",
       "    </tr>\n",
       "    <tr>\n",
       "      <th>1634</th>\n",
       "      <td>15920672464676076400</td>\n",
       "      <td></td>\n",
       "    </tr>\n",
       "    <tr>\n",
       "      <th>1635</th>\n",
       "      <td>3232020170382870007</td>\n",
       "      <td></td>\n",
       "    </tr>\n",
       "    <tr>\n",
       "      <th>1636</th>\n",
       "      <td>3094804487341098468</td>\n",
       "      <td></td>\n",
       "    </tr>\n",
       "    <tr>\n",
       "      <th>1637</th>\n",
       "      <td>5827342261332058667</td>\n",
       "      <td></td>\n",
       "    </tr>\n",
       "  </tbody>\n",
       "</table>\n",
       "<p>1638 rows × 2 columns</p>\n",
       "</div>"
      ],
      "text/plain": [
       "                        id class\n",
       "0      9156739011499789258      \n",
       "1      2049465964503133373      \n",
       "2      6446998501027132988      \n",
       "3      4194396063119815321      \n",
       "4      9018117998187006009      \n",
       "...                    ...   ...\n",
       "1633  18302448610371772604      \n",
       "1634  15920672464676076400      \n",
       "1635   3232020170382870007      \n",
       "1636   3094804487341098468      \n",
       "1637   5827342261332058667      \n",
       "\n",
       "[1638 rows x 2 columns]"
      ]
     },
     "execution_count": 21,
     "metadata": {},
     "output_type": "execute_result"
    }
   ],
   "source": [
    "# Converting the predicted class to labels\n",
    "test_data = pd.read_csv('../input/opencv-pytorch-dl-course-classification/test.csv')\n",
    "test_data['id'] = test_data['id'].astype(str)\n",
    "test_data[\"class\"] = \"\"\n",
    "test_data"
   ]
  },
  {
   "cell_type": "code",
   "execution_count": 22,
   "id": "27fe3aa9",
   "metadata": {
    "execution": {
     "iopub.execute_input": "2022-09-03T21:38:12.025887Z",
     "iopub.status.busy": "2022-09-03T21:38:12.024310Z",
     "iopub.status.idle": "2022-09-03T21:38:12.032083Z",
     "shell.execute_reply": "2022-09-03T21:38:12.031261Z"
    },
    "papermill": {
     "duration": 0.018395,
     "end_time": "2022-09-03T21:38:12.034118",
     "exception": false,
     "start_time": "2022-09-03T21:38:12.015723",
     "status": "completed"
    },
    "tags": []
   },
   "outputs": [],
   "source": [
    "# Decoding int lables to string labels\n",
    "def label_decoder(df):\n",
    "    if df== 0:\n",
    "        return 'githeri'\n",
    "    \n",
    "    elif df == 1:\n",
    "        return 'ugali'\n",
    "    \n",
    "    elif df== 2:\n",
    "        return 'kachumbari'\n",
    "    \n",
    "    elif df == 3:\n",
    "        return 'matoke'\n",
    "    \n",
    "    elif df == 4:\n",
    "        return 'sukumawiki'\n",
    "    \n",
    "    elif df== 5:\n",
    "        return 'bhaji'\n",
    "    \n",
    "    elif df == 6:\n",
    "        return 'nyamachoma'\n",
    "    \n",
    "    elif df == 7:\n",
    "        return 'mandazi'\n",
    "    \n",
    "    elif df== 8 :\n",
    "        return 'pilau'\n",
    "    \n",
    "    elif df== 9:\n",
    "        return 'chapati'\n",
    "    \n",
    "    elif df== 10:\n",
    "        return 'kukuchoma'\n",
    "    \n",
    "    elif df== 11:\n",
    "        return 'masalachips'\n",
    "    \n",
    "    elif df== 12:\n",
    "        return 'mukimo'"
   ]
  },
  {
   "cell_type": "code",
   "execution_count": 23,
   "id": "c2e66b06",
   "metadata": {
    "execution": {
     "iopub.execute_input": "2022-09-03T21:38:12.050998Z",
     "iopub.status.busy": "2022-09-03T21:38:12.050737Z",
     "iopub.status.idle": "2022-09-03T21:38:12.058325Z",
     "shell.execute_reply": "2022-09-03T21:38:12.057390Z"
    },
    "papermill": {
     "duration": 0.01831,
     "end_time": "2022-09-03T21:38:12.060122",
     "exception": false,
     "start_time": "2022-09-03T21:38:12.041812",
     "status": "completed"
    },
    "tags": []
   },
   "outputs": [],
   "source": [
    "# Testing with unseen data and saving the predictions to submission requirements\n",
    "def Test():\n",
    "    model.eval()\n",
    "    with torch.no_grad():\n",
    "        trained_model = torch.load('./model.pth')\n",
    "        model.load_state_dict(trained_model)\n",
    "        for i in range(len(test_data[\"id\"])):\n",
    "            img_path = os.path.join('../input/opencv-pytorch-dl-course-classification/images/images', str(test_data[\"id\"][i])+'.jpg')\n",
    "            image = Image.open(img_path)\n",
    "            transformer =  transforms.Compose([transforms.Resize((380,380)),transforms.ToTensor(), \n",
    "                                          transforms.Normalize(mean = [0.485, 0.456, 0.406], std = [0.229, 0.224, 0.225])])\n",
    "            transformed_image = transformer(image).cuda()\n",
    "            predictions = model(transformed_image.unsqueeze(0))\n",
    "            predictions = F.softmax(predictions, dim = 1)\n",
    "            prediction = predictions.argmax(dim = 1)\n",
    "            test_data[\"class\"][i] = label_decoder(prediction.item())\n",
    "\n",
    "\n",
    "    test_data.to_csv('submission.csv', index = False)\n",
    "    \n",
    "    "
   ]
  },
  {
   "cell_type": "code",
   "execution_count": 24,
   "id": "c45cd5cb",
   "metadata": {
    "execution": {
     "iopub.execute_input": "2022-09-03T21:38:12.078769Z",
     "iopub.status.busy": "2022-09-03T21:38:12.078411Z",
     "iopub.status.idle": "2022-09-03T21:38:12.082683Z",
     "shell.execute_reply": "2022-09-03T21:38:12.081758Z"
    },
    "papermill": {
     "duration": 0.015393,
     "end_time": "2022-09-03T21:38:12.084648",
     "exception": false,
     "start_time": "2022-09-03T21:38:12.069255",
     "status": "completed"
    },
    "tags": []
   },
   "outputs": [],
   "source": [
    "  from ipykernel import kernelapp as app\n"
   ]
  },
  {
   "cell_type": "code",
   "execution_count": 25,
   "id": "26950a3e",
   "metadata": {
    "execution": {
     "iopub.execute_input": "2022-09-03T21:38:12.101116Z",
     "iopub.status.busy": "2022-09-03T21:38:12.100861Z",
     "iopub.status.idle": "2022-09-03T21:39:40.108184Z",
     "shell.execute_reply": "2022-09-03T21:39:40.106473Z"
    },
    "papermill": {
     "duration": 88.018741,
     "end_time": "2022-09-03T21:39:40.111048",
     "exception": false,
     "start_time": "2022-09-03T21:38:12.092307",
     "status": "completed"
    },
    "tags": []
   },
   "outputs": [],
   "source": [
    "# Running the test\n",
    "Test()"
   ]
  }
 ],
 "metadata": {
  "kernelspec": {
   "display_name": "Python 3",
   "language": "python",
   "name": "python3"
  },
  "language_info": {
   "codemirror_mode": {
    "name": "ipython",
    "version": 3
   },
   "file_extension": ".py",
   "mimetype": "text/x-python",
   "name": "python",
   "nbconvert_exporter": "python",
   "pygments_lexer": "ipython3",
   "version": "3.7.12"
  },
  "papermill": {
   "default_parameters": {},
   "duration": 22013.096286,
   "end_time": "2022-09-03T21:39:41.775217",
   "environment_variables": {},
   "exception": null,
   "input_path": "__notebook__.ipynb",
   "output_path": "__notebook__.ipynb",
   "parameters": {},
   "start_time": "2022-09-03T15:32:48.678931",
   "version": "2.3.4"
  },
  "widgets": {
   "application/vnd.jupyter.widget-state+json": {
    "state": {
     "1555e3c73a934c3b8d0915fee583fae4": {
      "model_module": "@jupyter-widgets/base",
      "model_module_version": "1.2.0",
      "model_name": "LayoutModel",
      "state": {
       "_model_module": "@jupyter-widgets/base",
       "_model_module_version": "1.2.0",
       "_model_name": "LayoutModel",
       "_view_count": null,
       "_view_module": "@jupyter-widgets/base",
       "_view_module_version": "1.2.0",
       "_view_name": "LayoutView",
       "align_content": null,
       "align_items": null,
       "align_self": null,
       "border": null,
       "bottom": null,
       "display": null,
       "flex": null,
       "flex_flow": null,
       "grid_area": null,
       "grid_auto_columns": null,
       "grid_auto_flow": null,
       "grid_auto_rows": null,
       "grid_column": null,
       "grid_gap": null,
       "grid_row": null,
       "grid_template_areas": null,
       "grid_template_columns": null,
       "grid_template_rows": null,
       "height": null,
       "justify_content": null,
       "justify_items": null,
       "left": null,
       "margin": null,
       "max_height": null,
       "max_width": null,
       "min_height": null,
       "min_width": null,
       "object_fit": null,
       "object_position": null,
       "order": null,
       "overflow": null,
       "overflow_x": null,
       "overflow_y": null,
       "padding": null,
       "right": null,
       "top": null,
       "visibility": null,
       "width": null
      }
     },
     "1cca0aa1691245b58c899dfb37dfc68f": {
      "model_module": "@jupyter-widgets/controls",
      "model_module_version": "1.5.0",
      "model_name": "DescriptionStyleModel",
      "state": {
       "_model_module": "@jupyter-widgets/controls",
       "_model_module_version": "1.5.0",
       "_model_name": "DescriptionStyleModel",
       "_view_count": null,
       "_view_module": "@jupyter-widgets/base",
       "_view_module_version": "1.2.0",
       "_view_name": "StyleView",
       "description_width": ""
      }
     },
     "1d1333605cea45f9b49576b674addbce": {
      "model_module": "@jupyter-widgets/controls",
      "model_module_version": "1.5.0",
      "model_name": "ProgressStyleModel",
      "state": {
       "_model_module": "@jupyter-widgets/controls",
       "_model_module_version": "1.5.0",
       "_model_name": "ProgressStyleModel",
       "_view_count": null,
       "_view_module": "@jupyter-widgets/base",
       "_view_module_version": "1.2.0",
       "_view_name": "StyleView",
       "bar_color": null,
       "description_width": ""
      }
     },
     "1feadd6131874c63a9135dd86e449486": {
      "model_module": "@jupyter-widgets/controls",
      "model_module_version": "1.5.0",
      "model_name": "DescriptionStyleModel",
      "state": {
       "_model_module": "@jupyter-widgets/controls",
       "_model_module_version": "1.5.0",
       "_model_name": "DescriptionStyleModel",
       "_view_count": null,
       "_view_module": "@jupyter-widgets/base",
       "_view_module_version": "1.2.0",
       "_view_name": "StyleView",
       "description_width": ""
      }
     },
     "237b7076ee304abda47b3ac29d281cc1": {
      "model_module": "@jupyter-widgets/base",
      "model_module_version": "1.2.0",
      "model_name": "LayoutModel",
      "state": {
       "_model_module": "@jupyter-widgets/base",
       "_model_module_version": "1.2.0",
       "_model_name": "LayoutModel",
       "_view_count": null,
       "_view_module": "@jupyter-widgets/base",
       "_view_module_version": "1.2.0",
       "_view_name": "LayoutView",
       "align_content": null,
       "align_items": null,
       "align_self": null,
       "border": null,
       "bottom": null,
       "display": null,
       "flex": null,
       "flex_flow": null,
       "grid_area": null,
       "grid_auto_columns": null,
       "grid_auto_flow": null,
       "grid_auto_rows": null,
       "grid_column": null,
       "grid_gap": null,
       "grid_row": null,
       "grid_template_areas": null,
       "grid_template_columns": null,
       "grid_template_rows": null,
       "height": null,
       "justify_content": null,
       "justify_items": null,
       "left": null,
       "margin": null,
       "max_height": null,
       "max_width": null,
       "min_height": null,
       "min_width": null,
       "object_fit": null,
       "object_position": null,
       "order": null,
       "overflow": null,
       "overflow_x": null,
       "overflow_y": null,
       "padding": null,
       "right": null,
       "top": null,
       "visibility": null,
       "width": null
      }
     },
     "3572d4fb1bce4692b5f8a52d4cf37410": {
      "model_module": "@jupyter-widgets/base",
      "model_module_version": "1.2.0",
      "model_name": "LayoutModel",
      "state": {
       "_model_module": "@jupyter-widgets/base",
       "_model_module_version": "1.2.0",
       "_model_name": "LayoutModel",
       "_view_count": null,
       "_view_module": "@jupyter-widgets/base",
       "_view_module_version": "1.2.0",
       "_view_name": "LayoutView",
       "align_content": null,
       "align_items": null,
       "align_self": null,
       "border": null,
       "bottom": null,
       "display": null,
       "flex": null,
       "flex_flow": null,
       "grid_area": null,
       "grid_auto_columns": null,
       "grid_auto_flow": null,
       "grid_auto_rows": null,
       "grid_column": null,
       "grid_gap": null,
       "grid_row": null,
       "grid_template_areas": null,
       "grid_template_columns": null,
       "grid_template_rows": null,
       "height": null,
       "justify_content": null,
       "justify_items": null,
       "left": null,
       "margin": null,
       "max_height": null,
       "max_width": null,
       "min_height": null,
       "min_width": null,
       "object_fit": null,
       "object_position": null,
       "order": null,
       "overflow": null,
       "overflow_x": null,
       "overflow_y": null,
       "padding": null,
       "right": null,
       "top": null,
       "visibility": null,
       "width": null
      }
     },
     "408f0e5d5182454ebc37cd16176d5ffc": {
      "model_module": "@jupyter-widgets/controls",
      "model_module_version": "1.5.0",
      "model_name": "HBoxModel",
      "state": {
       "_dom_classes": [],
       "_model_module": "@jupyter-widgets/controls",
       "_model_module_version": "1.5.0",
       "_model_name": "HBoxModel",
       "_view_count": null,
       "_view_module": "@jupyter-widgets/controls",
       "_view_module_version": "1.5.0",
       "_view_name": "HBoxView",
       "box_style": "",
       "children": [
        "IPY_MODEL_b98f58b43b364c849eb43a8ffa20e4e0",
        "IPY_MODEL_61f944fd196f46d7aed55625604a6a8c",
        "IPY_MODEL_9e7be09996a44b2ea0edb216825a8626"
       ],
       "layout": "IPY_MODEL_237b7076ee304abda47b3ac29d281cc1"
      }
     },
     "61f944fd196f46d7aed55625604a6a8c": {
      "model_module": "@jupyter-widgets/controls",
      "model_module_version": "1.5.0",
      "model_name": "FloatProgressModel",
      "state": {
       "_dom_classes": [],
       "_model_module": "@jupyter-widgets/controls",
       "_model_module_version": "1.5.0",
       "_model_name": "FloatProgressModel",
       "_view_count": null,
       "_view_module": "@jupyter-widgets/controls",
       "_view_module_version": "1.5.0",
       "_view_name": "ProgressView",
       "bar_style": "success",
       "description": "",
       "description_tooltip": null,
       "layout": "IPY_MODEL_3572d4fb1bce4692b5f8a52d4cf37410",
       "max": 78107389.0,
       "min": 0.0,
       "orientation": "horizontal",
       "style": "IPY_MODEL_1d1333605cea45f9b49576b674addbce",
       "value": 78107389.0
      }
     },
     "656e2849d9f74963a754446a1833844f": {
      "model_module": "@jupyter-widgets/base",
      "model_module_version": "1.2.0",
      "model_name": "LayoutModel",
      "state": {
       "_model_module": "@jupyter-widgets/base",
       "_model_module_version": "1.2.0",
       "_model_name": "LayoutModel",
       "_view_count": null,
       "_view_module": "@jupyter-widgets/base",
       "_view_module_version": "1.2.0",
       "_view_name": "LayoutView",
       "align_content": null,
       "align_items": null,
       "align_self": null,
       "border": null,
       "bottom": null,
       "display": null,
       "flex": null,
       "flex_flow": null,
       "grid_area": null,
       "grid_auto_columns": null,
       "grid_auto_flow": null,
       "grid_auto_rows": null,
       "grid_column": null,
       "grid_gap": null,
       "grid_row": null,
       "grid_template_areas": null,
       "grid_template_columns": null,
       "grid_template_rows": null,
       "height": null,
       "justify_content": null,
       "justify_items": null,
       "left": null,
       "margin": null,
       "max_height": null,
       "max_width": null,
       "min_height": null,
       "min_width": null,
       "object_fit": null,
       "object_position": null,
       "order": null,
       "overflow": null,
       "overflow_x": null,
       "overflow_y": null,
       "padding": null,
       "right": null,
       "top": null,
       "visibility": null,
       "width": null
      }
     },
     "9e7be09996a44b2ea0edb216825a8626": {
      "model_module": "@jupyter-widgets/controls",
      "model_module_version": "1.5.0",
      "model_name": "HTMLModel",
      "state": {
       "_dom_classes": [],
       "_model_module": "@jupyter-widgets/controls",
       "_model_module_version": "1.5.0",
       "_model_name": "HTMLModel",
       "_view_count": null,
       "_view_module": "@jupyter-widgets/controls",
       "_view_module_version": "1.5.0",
       "_view_name": "HTMLView",
       "description": "",
       "description_tooltip": null,
       "layout": "IPY_MODEL_656e2849d9f74963a754446a1833844f",
       "placeholder": "​",
       "style": "IPY_MODEL_1feadd6131874c63a9135dd86e449486",
       "value": " 74.5M/74.5M [00:04&lt;00:00, 21.8MB/s]"
      }
     },
     "b98f58b43b364c849eb43a8ffa20e4e0": {
      "model_module": "@jupyter-widgets/controls",
      "model_module_version": "1.5.0",
      "model_name": "HTMLModel",
      "state": {
       "_dom_classes": [],
       "_model_module": "@jupyter-widgets/controls",
       "_model_module_version": "1.5.0",
       "_model_name": "HTMLModel",
       "_view_count": null,
       "_view_module": "@jupyter-widgets/controls",
       "_view_module_version": "1.5.0",
       "_view_name": "HTMLView",
       "description": "",
       "description_tooltip": null,
       "layout": "IPY_MODEL_1555e3c73a934c3b8d0915fee583fae4",
       "placeholder": "​",
       "style": "IPY_MODEL_1cca0aa1691245b58c899dfb37dfc68f",
       "value": "100%"
      }
     }
    },
    "version_major": 2,
    "version_minor": 0
   }
  }
 },
 "nbformat": 4,
 "nbformat_minor": 5
}
